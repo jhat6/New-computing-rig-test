{
 "cells": [
  {
   "cell_type": "code",
   "execution_count": 1,
   "id": "boolean-sussex",
   "metadata": {},
   "outputs": [],
   "source": [
    "import tensorflow as tf\n",
    "import time\n",
    "import pandas as pd"
   ]
  },
  {
   "cell_type": "code",
   "execution_count": 2,
   "id": "waiting-bosnia",
   "metadata": {},
   "outputs": [],
   "source": [
    "tf.debugging.set_log_device_placement(True)\n",
    "cols = ['CPU','GPU']\n",
    "index = [100, 1000, 5000, 10000, 12000]\n",
    "results = pd.DataFrame(columns=cols, index = index)"
   ]
  },
  {
   "cell_type": "code",
   "execution_count": 3,
   "id": "square-burke",
   "metadata": {},
   "outputs": [
    {
     "name": "stdout",
     "output_type": "stream",
     "text": [
      "100\n",
      "Executing op RandomUniform in device /job:localhost/replica:0/task:0/device:CPU:0\n",
      "Executing op RandomUniform in device /job:localhost/replica:0/task:0/device:CPU:0\n",
      "Executing op MatMul in device /job:localhost/replica:0/task:0/device:CPU:0\n",
      "0.018004894256591797 \n",
      "\n",
      "1000\n",
      "Executing op RandomUniform in device /job:localhost/replica:0/task:0/device:CPU:0\n",
      "Executing op RandomUniform in device /job:localhost/replica:0/task:0/device:CPU:0\n",
      "Executing op MatMul in device /job:localhost/replica:0/task:0/device:CPU:0\n",
      "0.009000778198242188 \n",
      "\n",
      "5000\n",
      "Executing op RandomUniform in device /job:localhost/replica:0/task:0/device:CPU:0\n",
      "Executing op RandomUniform in device /job:localhost/replica:0/task:0/device:CPU:0\n",
      "Executing op MatMul in device /job:localhost/replica:0/task:0/device:CPU:0\n",
      "0.3380746841430664 \n",
      "\n",
      "10000\n",
      "Executing op RandomUniform in device /job:localhost/replica:0/task:0/device:CPU:0\n",
      "Executing op RandomUniform in device /job:localhost/replica:0/task:0/device:CPU:0\n",
      "Executing op MatMul in device /job:localhost/replica:0/task:0/device:CPU:0\n",
      "2.390078067779541 \n",
      "\n",
      "12000\n",
      "Executing op RandomUniform in device /job:localhost/replica:0/task:0/device:CPU:0\n",
      "Executing op RandomUniform in device /job:localhost/replica:0/task:0/device:CPU:0\n",
      "Executing op MatMul in device /job:localhost/replica:0/task:0/device:CPU:0\n",
      "4.311548709869385 \n",
      "\n"
     ]
    }
   ],
   "source": [
    "for n in index:\n",
    "    print(n)\n",
    "    tf.random.set_seed(1234)\n",
    "    with tf.device('/CPU:0'):\n",
    "        start = time.time()   \n",
    "        a = tf.random.uniform([n, n])\n",
    "        b = tf.random.uniform([n, n])\n",
    "        c = tf.matmul(a, b)\n",
    "        executeTime = time.time() - start        \n",
    "        results['CPU'].loc[n] = executeTime        \n",
    "    print(executeTime,'\\n')"
   ]
  },
  {
   "cell_type": "code",
   "execution_count": 10,
   "id": "crazy-clearance",
   "metadata": {},
   "outputs": [
    {
     "name": "stdout",
     "output_type": "stream",
     "text": [
      "100\n",
      "Executing op RandomUniform in device /job:localhost/replica:0/task:0/device:GPU:0\n",
      "Executing op RandomUniform in device /job:localhost/replica:0/task:0/device:GPU:0\n",
      "Executing op MatMul in device /job:localhost/replica:0/task:0/device:GPU:0\n",
      "0.003000497817993164 \n",
      "\n",
      "1000\n",
      "Executing op RandomUniform in device /job:localhost/replica:0/task:0/device:GPU:0\n",
      "Executing op RandomUniform in device /job:localhost/replica:0/task:0/device:GPU:0\n",
      "Executing op MatMul in device /job:localhost/replica:0/task:0/device:GPU:0\n",
      "0.003000974655151367 \n",
      "\n",
      "5000\n",
      "Executing op RandomUniform in device /job:localhost/replica:0/task:0/device:GPU:0\n",
      "Executing op RandomUniform in device /job:localhost/replica:0/task:0/device:GPU:0\n",
      "Executing op MatMul in device /job:localhost/replica:0/task:0/device:GPU:0\n",
      "0.0010006427764892578 \n",
      "\n",
      "10000\n",
      "Executing op RandomUniform in device /job:localhost/replica:0/task:0/device:GPU:0\n",
      "Executing op RandomUniform in device /job:localhost/replica:0/task:0/device:GPU:0\n",
      "Executing op MatMul in device /job:localhost/replica:0/task:0/device:GPU:0\n",
      "0.002001523971557617 \n",
      "\n",
      "12000\n",
      "Executing op RandomUniform in device /job:localhost/replica:0/task:0/device:GPU:0\n",
      "Executing op RandomUniform in device /job:localhost/replica:0/task:0/device:GPU:0\n",
      "Executing op MatMul in device /job:localhost/replica:0/task:0/device:GPU:0\n",
      "0.002000093460083008 \n",
      "\n"
     ]
    }
   ],
   "source": [
    "for n in index:\n",
    "    print(n)\n",
    "    tf.random.set_seed(1234)\n",
    "    with tf.device('/GPU:0'):\n",
    "        start = time.time()   \n",
    "        a = tf.random.uniform([n, n])\n",
    "        b = tf.random.uniform([n, n])\n",
    "        c = tf.matmul(a, b)\n",
    "        executeTime = time.time() - start        \n",
    "        results['GPU'].loc[n] = executeTime        \n",
    "    print(executeTime,'\\n')"
   ]
  },
  {
   "cell_type": "code",
   "execution_count": 8,
   "id": "immune-command",
   "metadata": {},
   "outputs": [
    {
     "data": {
      "image/png": "[encoded data removed]",
      "text/plain": [
       "<Figure size 432x288 with 1 Axes>"
      ]
     },
     "metadata": {
      "needs_background": "light"
     },
     "output_type": "display_data"
    }
   ],
   "source": [
    "results.plot(logy=True, logx=True, grid=True, xlabel='Matrix Dim', ylabel='Time [Sec]');"
   ]
  }
 ],
 "metadata": {
  "kernelspec": {
   "display_name": "Python 3",
   "language": "python",
   "name": "python3"
  },
  "language_info": {
   "codemirror_mode": {
    "name": "ipython",
    "version": 3
   },
   "file_extension": ".py",
   "mimetype": "text/x-python",
   "name": "python",
   "nbconvert_exporter": "python",
   "pygments_lexer": "ipython3",
   "version": "3.7.7"
  }
 },
 "nbformat": 4,
 "nbformat_minor": 5
}
